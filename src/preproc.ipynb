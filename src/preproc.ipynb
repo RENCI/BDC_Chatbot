{
 "cells": [
  {
   "cell_type": "code",
   "execution_count": 4,
   "metadata": {},
   "outputs": [
    {
     "name": "stdout",
     "output_type": "stream",
     "text": [
      "/home/sguo/code/BDC_Chatbot\n"
     ]
    },
    {
     "name": "stderr",
     "output_type": "stream",
     "text": [
      "/home/sguo/code/BDC_Chatbot/.venv/lib/python3.12/site-packages/IPython/core/magics/osm.py:417: UserWarning: This is now an optional IPython functionality, setting dhist requires you to install the `pickleshare` library.\n",
      "  self.shell.db['dhist'] = compress_dhist(dhist)[-100:]\n"
     ]
    }
   ],
   "source": [
    "%cd .."
   ]
  },
  {
   "cell_type": "code",
   "execution_count": 6,
   "metadata": {},
   "outputs": [
    {
     "name": "stdout",
     "output_type": "stream",
     "text": [
      "Processing fellows...\n"
     ]
    },
    {
     "name": "stderr",
     "output_type": "stream",
     "text": [
      "Reading fellow files: 100%|██████████| 47/47 [00:00<00:00, 772.41it/s]\n"
     ]
    },
    {
     "name": "stdout",
     "output_type": "stream",
     "text": [
      "Fellows: 47\n",
      "Processing latest-updates...\n"
     ]
    },
    {
     "name": "stderr",
     "output_type": "stream",
     "text": [
      "Parsing MDX files: 100%|██████████| 8/8 [00:00<00:00, 735.78it/s]\n"
     ]
    },
    {
     "name": "stdout",
     "output_type": "stream",
     "text": [
      "Processing events...\n"
     ]
    },
    {
     "name": "stderr",
     "output_type": "stream",
     "text": [
      "Parsing MDX files: 100%|██████████| 45/45 [00:00<00:00, 687.70it/s]\n",
      "100%|██████████| 11/11 [00:00<00:00, 835.38it/s]\n",
      "11it [00:00, 37571.13it/s]\n"
     ]
    }
   ],
   "source": [
    "\n",
    "from pathlib import Path\n",
    "from tqdm import tqdm\n",
    "import pickle\n",
    "\n",
    "from datetime import datetime\n",
    "\n",
    "from preproc.proc_BDC_repo import get_fellow_files, get_data_mdx_files, clean_mdx, get_all_mdx_paths, clean_path\n",
    "\n",
    "\n",
    "# process data dir\n",
    "\n",
    "data_dir = \"../../interim-bdc-website/src/data/\"\n",
    "\n",
    "\n",
    "\n",
    "# region: process fellows\n",
    "print(\"Processing fellows...\")\n",
    "fellow_dir = data_dir + \"fellows/\"\n",
    "\n",
    "fellows = get_fellow_files(Path(fellow_dir).resolve(), data_dir)\n",
    "\n",
    "for fellow in fellows:\n",
    "    fellow['metadata']['project_title'] = fellow['metadata']['project']['title']\n",
    "    fellow['metadata']['project_abstract'] = fellow['metadata']['project']['abstract']\n",
    "    del fellow['metadata']['project']\n",
    "\n",
    "\n",
    "\n",
    "\n",
    "\n",
    "print(f\"Fellows: {len(fellows)}\")\n",
    "\n",
    "# process latest-updates\n",
    "print(\"Processing latest-updates...\")\n",
    "updates_dir = data_dir + \"latest-updates/\"\n",
    "\n",
    "updates = get_data_mdx_files(Path(updates_dir).resolve(), data_dir)\n",
    "\n",
    "for update in updates:\n",
    "    \n",
    "\n",
    "    update['metadata']['timestamp'] = datetime.combine(update['metadata']['date'], datetime.min.time().replace(hour=12)).timestamp()\n",
    "    update['metadata']['date'] = update['metadata']['date'].strftime(\"%Y-%m-%d\")\n",
    "    \n",
    "    update['metadata']['tags'] = \", \".join(update['metadata']['tags'])\n",
    "    # del value if it is a dictionary or list of dictionaries\n",
    "    del_keys = []\n",
    "    for key, value in update['metadata'].items():\n",
    "        if isinstance(value, dict):\n",
    "            del_keys.append(key)\n",
    "        elif isinstance(value, list):\n",
    "            if isinstance(value[0], dict):\n",
    "                del_keys.append(key)\n",
    "\n",
    "    for key in del_keys:\n",
    "        del update['metadata'][key]\n",
    "    \n",
    "    \n",
    "    \n",
    "# process events\n",
    "print(\"Processing events...\")\n",
    "events_dir = data_dir + \"events/\"\n",
    "\n",
    "events = get_data_mdx_files(Path(events_dir).resolve(), data_dir)\n",
    "\n",
    "\n",
    "# convert event date to string\n",
    "for event in events:\n",
    "    event['metadata']['timestamp'] = datetime.combine(event['metadata']['date'], datetime.min.time().replace(hour=12)).timestamp()\n",
    "    event['metadata']['date'] = event['metadata']['date'].strftime(\"%Y-%m-%d\")\n",
    "    \n",
    "    \n",
    "    event['metadata']['tags'] = \", \".join(event['metadata']['tags'])\n",
    "    \n",
    "    del_keys = []\n",
    "    for key, value in event['metadata'].items():\n",
    "        if isinstance(value, dict):\n",
    "            del_keys.append(key)\n",
    "        elif isinstance(value, list):\n",
    "            if isinstance(value[0], dict):\n",
    "                del_keys.append(key)\n",
    "    for key in del_keys:\n",
    "        del event['metadata'][key]\n",
    "    \n",
    "    \n",
    "    \n",
    "# endregion\n",
    "\n",
    "\n",
    "# region: process pages dir\n",
    "\n",
    "\n",
    "pages_dir = '../../interim-bdc-website/src/pages/'\n",
    "page_dir_paths = [\"use-bdc/analyze-data/\", ]\n",
    "page_file_paths = [\"join-bdc/index.mdx\", \"use-bdc/share-data.mdx\", \n",
    "                   \"user-resources/terms-of-use.mdx\", \"user-resources/usage-costs.mdx\", \"user-resources/usage-terms.mdx\",\n",
    "                   \"about/key-collaborations.mdx\", \"about/overview.mdx\", \"about/research-communities.mdx\",\n",
    "                   \"use-bdc/explore-data/index.mdx\"]\n",
    "\n",
    "\n",
    "mdx_paths = get_all_mdx_paths(pages_dir, page_dir_paths, page_file_paths)\n",
    "\n",
    "\n",
    "metadata_list = []\n",
    "page_content_list = []\n",
    "\n",
    "for path in tqdm(mdx_paths):\n",
    "    header, page_content = clean_mdx(path)\n",
    "    header['file_path'] = clean_path(path, pages_dir)\n",
    "    metadata_list.append(header)\n",
    "    page_content_list.append(page_content)\n",
    "\n",
    "# Save pages data\n",
    "pages_data = []\n",
    "for metadata, content in tqdm(zip(metadata_list, page_content_list)):\n",
    "    if 'menu' in metadata.keys():\n",
    "        metadata['headings'] = ', '.join([pair['heading'] for pair in metadata['menu']])\n",
    "        metadata['hrefs'] = ', '.join([pair['href'] for pair in metadata['menu']])\n",
    "        del metadata['menu']\n",
    "    \n",
    "    \n",
    "    pages_data.append({'metadata': metadata, 'content': content})\n",
    "    \n",
    "    \n",
    "    \n",
    "# endregion\n",
    "\n",
    "\n",
    "\n",
    "\n",
    "\n",
    "\n"
   ]
  },
  {
   "cell_type": "code",
   "execution_count": 7,
   "metadata": {},
   "outputs": [
    {
     "name": "stdout",
     "output_type": "stream",
     "text": [
      "interim-bdc-website/src/data/fellows/gaynor-sheila.md\n",
      "interim-bdc-website/src/data/latest-updates/2023-09-11_SCDdatasets/index.mdx\n",
      "interim-bdc-website/src/data/events/2023-02-22_Community-Hours.mdx\n",
      "interim-bdc-website/src/pages/use-bdc/analyze-data/index.mdx\n"
     ]
    }
   ],
   "source": [
    "print(fellows[0]['metadata']['file_path'])\n",
    "print(updates[0]['metadata']['file_path'])\n",
    "print(events[0]['metadata']['file_path'])\n",
    "print(pages_data[0]['metadata']['file_path'])\n"
   ]
  },
  {
   "cell_type": "code",
   "execution_count": null,
   "metadata": {},
   "outputs": [],
   "source": []
  },
  {
   "cell_type": "code",
   "execution_count": 8,
   "metadata": {},
   "outputs": [],
   "source": [
    "# save all content and metadata in pkl\n",
    "# Save fellows data\n",
    "with open('../data/fellows.pkl', 'wb') as f:\n",
    "    pickle.dump(fellows, f)\n",
    "\n",
    "# Save latest updates data\n",
    "with open('../data/latest_updates.pkl', 'wb') as f:\n",
    "    pickle.dump(updates, f)\n",
    "\n",
    "# Save events data  \n",
    "with open('../data/events.pkl', 'wb') as f:\n",
    "    pickle.dump(events, f)\n",
    "\n",
    "\n",
    "with open('../data/pages.pkl', 'wb') as f:\n",
    "    pickle.dump(pages_data, f)"
   ]
  },
  {
   "cell_type": "code",
   "execution_count": null,
   "metadata": {},
   "outputs": [],
   "source": []
  }
 ],
 "metadata": {
  "kernelspec": {
   "display_name": ".venv",
   "language": "python",
   "name": "python3"
  },
  "language_info": {
   "codemirror_mode": {
    "name": "ipython",
    "version": 3
   },
   "file_extension": ".py",
   "mimetype": "text/x-python",
   "name": "python",
   "nbconvert_exporter": "python",
   "pygments_lexer": "ipython3",
   "version": "3.12.7"
  }
 },
 "nbformat": 4,
 "nbformat_minor": 2
}
